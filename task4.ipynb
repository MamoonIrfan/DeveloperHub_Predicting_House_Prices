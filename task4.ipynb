{
 "cells": [
  {
   "cell_type": "markdown",
   "id": "af0baefb",
   "metadata": {},
   "source": [
    "Task 4: Predicting House Prices\n",
    "-------------------------------\n",
    "Description:\n",
    "\n",
    " Predict house prices using the Boston Housing Dataset with one regression model.\n",
    "\n",
    "Steps:\n",
    "\n",
    "1. Preprocessing: Normalize the numerical features.\n",
    "\n",
    "2. Model Training: Use a simple Linear Regression model.\n",
    "\n",
    "3. Evaluation: Evaluate using RMSE.\n",
    "\n",
    "Outcome:\n",
    "A Python script that predicts house prices and shows RMSE.\n"
   ]
  },
  {
   "cell_type": "markdown",
   "id": "f5522327",
   "metadata": {},
   "source": [
    "Steps 1: Preprocessing: Normalize the numerical features.\n",
    "------------------------------------------------------"
   ]
  },
  {
   "cell_type": "code",
   "execution_count": 28,
   "id": "cdfa19ed",
   "metadata": {},
   "outputs": [
    {
     "name": "stdout",
     "output_type": "stream",
     "text": [
      "Dataset preview with proper column names:\n",
      "      CRIM    ZN  INDUS  CHAS    NOX     RM   AGE     DIS  RAD    TAX  \\\n",
      "0  0.00632  18.0   2.31     0  0.538  6.575  65.2  4.0900    1  296.0   \n",
      "1  0.02731   0.0   7.07     0  0.469  6.421  78.9  4.9671    2  242.0   \n",
      "2  0.02729   0.0   7.07     0  0.469  7.185  61.1  4.9671    2  242.0   \n",
      "3  0.03237   0.0   2.18     0  0.458  6.998  45.8  6.0622    3  222.0   \n",
      "4  0.06905   0.0   2.18     0  0.458  7.147  54.2  6.0622    3  222.0   \n",
      "\n",
      "   PTRATIO       B  LSTAT  MEDV  \n",
      "0     15.3  396.90   4.98  24.0  \n",
      "1     17.8  396.90   9.14  21.6  \n",
      "2     17.8  392.83   4.03  34.7  \n",
      "3     18.7  394.63   2.94  33.4  \n",
      "4     18.7  396.90   5.33  36.2  \n",
      "\n",
      "Shape of features after scaling: (506, 13)\n"
     ]
    },
    {
     "name": "stderr",
     "output_type": "stream",
     "text": [
      "C:\\Users\\Muhammad Mamoon\\AppData\\Local\\Temp\\ipykernel_15704\\2311759662.py:5: FutureWarning: The 'delim_whitespace' keyword in pd.read_csv is deprecated and will be removed in a future version. Use ``sep='\\s+'`` instead\n",
      "  df = pd.read_csv(\"Boston Housing Dataset.csv\", delim_whitespace=True, header=None)\n"
     ]
    }
   ],
   "source": [
    "import pandas as pd\n",
    "from sklearn.preprocessing import StandardScaler\n",
    "\n",
    "# Load the dataset (space separated values)\n",
    "df = pd.read_csv(\"Boston Housing Dataset.csv\", delim_whitespace=True, header=None)\n",
    "\n",
    "# Assign correct column names manually\n",
    "df.columns = ['CRIM', 'ZN', 'INDUS', 'CHAS', 'NOX', 'RM',\n",
    "              'AGE', 'DIS', 'RAD', 'TAX', 'PTRATIO', 'B',\n",
    "              'LSTAT', 'MEDV']\n",
    "\n",
    "print(\"Dataset preview with proper column names:\")\n",
    "print(df.head())\n",
    "\n",
    "# Features = all columns except 'MEDV'\n",
    "X = df.drop(\"MEDV\", axis=1)\n",
    "\n",
    "# Target = MEDV (House Price)\n",
    "y = df[\"MEDV\"]\n",
    "\n",
    "# Normalize features using StandardScaler\n",
    "scaler = StandardScaler()\n",
    "X_scaled = scaler.fit_transform(X)\n",
    "\n",
    "print(\"\\nShape of features after scaling:\", X_scaled.shape)\n"
   ]
  },
  {
   "cell_type": "markdown",
   "id": "53176457",
   "metadata": {},
   "source": [
    "Note for Step 1 (Preprocessing):\n",
    "\n",
    "The dataset is loaded and proper column names are assigned.\n",
    "\n",
    "X = features (independent variables like crime rate, tax, rooms, etc.).\n",
    "\n",
    "y = target variable (house price = MEDV).\n",
    "\n",
    "Features are normalized using StandardScaler so that all of them are on the same scale, which improves model performance."
   ]
  },
  {
   "cell_type": "markdown",
   "id": "28c585a6",
   "metadata": {},
   "source": [
    "Step 2. Model Training: Use a simple Linear Regression model.\n",
    "------------------------------------------------------------"
   ]
  },
  {
   "cell_type": "code",
   "execution_count": 29,
   "id": "41da08ad",
   "metadata": {},
   "outputs": [
    {
     "name": "stdout",
     "output_type": "stream",
     "text": [
      "Linear Regression model training completed!\n"
     ]
    }
   ],
   "source": [
    "from sklearn.model_selection import train_test_split\n",
    "from sklearn.linear_model import LinearRegression\n",
    "\n",
    "# Split dataset into training and testing sets\n",
    "# 80% training, 20% testing\n",
    "X_train, X_test, y_train, y_test = train_test_split(\n",
    "    X_scaled, y, test_size=0.2, random_state=42\n",
    ")\n",
    "\n",
    "# Initialize Linear Regression model\n",
    "model = LinearRegression()\n",
    "\n",
    "# Train the model on training data\n",
    "model.fit(X_train, y_train)\n",
    "\n",
    "print(\"Linear Regression model training completed!\")\n"
   ]
  },
  {
   "cell_type": "markdown",
   "id": "8d1c2c3e",
   "metadata": {},
   "source": [
    "Note for Step 2 (Model Training):\n",
    "\n",
    "The dataset is split into training data (80%) and testing data (20%).\n",
    "\n",
    "Training data is used to teach the model how features are related to house prices.\n",
    "\n",
    "LinearRegression is a simple algorithm that finds the best-fit line between features and the target.\n",
    "\n",
    "The fit() function allows the model to learn from the training dataset."
   ]
  },
  {
   "cell_type": "markdown",
   "id": "6e0b0da0",
   "metadata": {},
   "source": [
    "Step 3. Evaluation: Evaluate using RMSE.\n",
    "--------------------------------------"
   ]
  },
  {
   "cell_type": "code",
   "execution_count": 30,
   "id": "9bae51ad",
   "metadata": {},
   "outputs": [
    {
     "name": "stdout",
     "output_type": "stream",
     "text": [
      "Model Evaluation Completed!\n",
      "Root Mean Squared Error (RMSE): 4.928602182665338\n"
     ]
    }
   ],
   "source": [
    "from sklearn.metrics import mean_squared_error\n",
    "import numpy as np\n",
    "\n",
    "# Predict house prices on the test set\n",
    "y_pred = model.predict(X_test)\n",
    "\n",
    "# Calculate RMSE\n",
    "rmse = np.sqrt(mean_squared_error(y_test, y_pred))\n",
    "\n",
    "print(\"Model Evaluation Completed!\")\n",
    "print(\"Root Mean Squared Error (RMSE):\", rmse)\n"
   ]
  },
  {
   "cell_type": "markdown",
   "id": "2a4e949b",
   "metadata": {},
   "source": [
    "Note for Step 3 (Evaluation):\n",
    "\n",
    "The model predicts house prices on the unseen test data (y_pred).\n",
    "\n",
    "mean_squared_error compares predicted values with the actual house prices.\n",
    "\n",
    "RMSE (Root Mean Squared Error) is the square root of the average squared differences between predicted and actual values.\n",
    "\n",
    "A smaller RMSE means better model performance.\n",
    "\n",
    "In this case, RMSE ≈ 4.92, which indicates the model is performing well."
   ]
  }
 ],
 "metadata": {
  "kernelspec": {
   "display_name": "base",
   "language": "python",
   "name": "python3"
  },
  "language_info": {
   "codemirror_mode": {
    "name": "ipython",
    "version": 3
   },
   "file_extension": ".py",
   "mimetype": "text/x-python",
   "name": "python",
   "nbconvert_exporter": "python",
   "pygments_lexer": "ipython3",
   "version": "3.13.5"
  }
 },
 "nbformat": 4,
 "nbformat_minor": 5
}
